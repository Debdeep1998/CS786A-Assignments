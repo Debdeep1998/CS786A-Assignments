{
 "cells": [
  {
   "cell_type": "code",
   "execution_count": 250,
   "metadata": {},
   "outputs": [],
   "source": [
    "import math\n",
    "import numpy as np\n",
    "np.set_printoptions(suppress=True)\n",
    "\n",
    "import pandas as pd\n",
    "\n",
    "X_filename = \"x.csv\"\n",
    "Y_filename = \"y.csv\""
   ]
  },
  {
   "cell_type": "code",
   "execution_count": 215,
   "metadata": {},
   "outputs": [],
   "source": [
    "def distance(x, y, alpha):\n",
    "    dist = 0\n",
    "    for i in range(len(x)):\n",
    "        dist += (alpha[i] * (x[i] - y[i]))\n",
    "\n",
    "    return abs(dist)\n",
    "\n",
    "def similarity(dist, beta):\n",
    "    return math.exp(-beta * dist)"
   ]
  },
  {
   "cell_type": "code",
   "execution_count": 216,
   "metadata": {},
   "outputs": [],
   "source": [
    "def get_exempler_set(dataframe, category_R):\n",
    "\n",
    "    category_dataframe = dataframe[dataframe.label == category_R]\n",
    "    return category_dataframe[[\"weight\", 'height']]\n"
   ]
  },
  {
   "cell_type": "code",
   "execution_count": 223,
   "metadata": {},
   "outputs": [],
   "source": [
    "def get_count(x, exemplar_set):\n",
    "    values_df = exemplar_set.value_counts().reset_index()\n",
    "    x_weight, x_height = x.weight, x.height\n",
    "    row = values_df.loc[(values_df.weight == x_weight) & (values_df.height == x_height)]\n",
    "    return row.iloc[0][0]\n",
    "\n",
    "def exemplar_vote(y, dataframe, category_R, gamma_R):\n",
    "    exemplar_set = get_exempler_set(dataframe, category_R)\n",
    "    # print(exemplar_set)\n",
    "    prob_R_y = 0 \n",
    "    for x in exemplar_set.iterrows():\n",
    "        x_ = x[1]\n",
    "        N_R_x = get_count(x_, exemplar_set)\n",
    "        distance_x_y = distance(x_, y, alpha= [1,1])\n",
    "        similarity_x_y = similarity(distance_x_y, beta=1)\n",
    "        prob_R_y += N_R_x * similarity_x_y\n",
    "    \n",
    "    prob_R_y *= gamma_R \n",
    "\n",
    "    return prob_R_y\n",
    "    \n",
    "def get_probablity(y, dataframe,categories = [1, 2, 3]):\n",
    "    prob = []\n",
    "    prob.append(exemplar_vote(y, dataframe, 1, 1))\n",
    "    prob.append(exemplar_vote(y, dataframe, 2, 1))\n",
    "    prob.append(exemplar_vote(y, dataframe, 3, 1))\n",
    "\n",
    "    return prob/sum(prob)"
   ]
  },
  {
   "cell_type": "code",
   "execution_count": 254,
   "metadata": {},
   "outputs": [],
   "source": [
    "X_df = pd.read_csv(X_filename, names=['weight', 'height', 'label'])\n",
    "Y_df = pd.read_csv(Y_filename, names=['weight', 'height',])"
   ]
  },
  {
   "cell_type": "code",
   "execution_count": 255,
   "metadata": {},
   "outputs": [
    {
     "data": {
      "text/plain": [
       "weight  height  label\n",
       "67      67      2        2\n",
       "65      73      2        2\n",
       "64      63      2        2\n",
       "        67      2        2\n",
       "        69      2        2\n",
       "                        ..\n",
       "65      67      2        1\n",
       "66      62      2        1\n",
       "        65      2        1\n",
       "        66      2        1\n",
       "85      68      3        1\n",
       "Length: 64, dtype: int64"
      ]
     },
     "execution_count": 255,
     "metadata": {},
     "output_type": "execute_result"
    }
   ],
   "source": [
    "X_df.value_counts()"
   ]
  },
  {
   "cell_type": "code",
   "execution_count": 226,
   "metadata": {},
   "outputs": [
    {
     "data": {
      "text/html": [
       "<div>\n",
       "<style scoped>\n",
       "    .dataframe tbody tr th:only-of-type {\n",
       "        vertical-align: middle;\n",
       "    }\n",
       "\n",
       "    .dataframe tbody tr th {\n",
       "        vertical-align: top;\n",
       "    }\n",
       "\n",
       "    .dataframe thead th {\n",
       "        text-align: right;\n",
       "    }\n",
       "</style>\n",
       "<table border=\"1\" class=\"dataframe\">\n",
       "  <thead>\n",
       "    <tr style=\"text-align: right;\">\n",
       "      <th></th>\n",
       "      <th>weight</th>\n",
       "      <th>height</th>\n",
       "    </tr>\n",
       "  </thead>\n",
       "  <tbody>\n",
       "    <tr>\n",
       "      <th>0</th>\n",
       "      <td>74</td>\n",
       "      <td>67</td>\n",
       "    </tr>\n",
       "    <tr>\n",
       "      <th>1</th>\n",
       "      <td>69</td>\n",
       "      <td>63</td>\n",
       "    </tr>\n",
       "    <tr>\n",
       "      <th>2</th>\n",
       "      <td>92</td>\n",
       "      <td>81</td>\n",
       "    </tr>\n",
       "    <tr>\n",
       "      <th>3</th>\n",
       "      <td>64</td>\n",
       "      <td>61</td>\n",
       "    </tr>\n",
       "    <tr>\n",
       "      <th>4</th>\n",
       "      <td>66</td>\n",
       "      <td>84</td>\n",
       "    </tr>\n",
       "  </tbody>\n",
       "</table>\n",
       "</div>"
      ],
      "text/plain": [
       "   weight  height\n",
       "0      74      67\n",
       "1      69      63\n",
       "2      92      81\n",
       "3      64      61\n",
       "4      66      84"
      ]
     },
     "execution_count": 226,
     "metadata": {},
     "output_type": "execute_result"
    }
   ],
   "source": [
    "Y_df.head()"
   ]
  },
  {
   "cell_type": "code",
   "execution_count": 247,
   "metadata": {},
   "outputs": [
    {
     "data": {
      "text/plain": [
       "0.9838621969282584"
      ]
     },
     "execution_count": 247,
     "metadata": {},
     "output_type": "execute_result"
    }
   ],
   "source": [
    "# prob = get_probablity(Y_df.iloc[6], X_df)\n"
   ]
  },
  {
   "cell_type": "code",
   "execution_count": 248,
   "metadata": {},
   "outputs": [],
   "source": [
    "probablity = []\n",
    "for i in range(len(Y_df)):\n",
    "    probablity.append(get_probablity(Y_df.iloc[i], X_df))"
   ]
  },
  {
   "cell_type": "code",
   "execution_count": 251,
   "metadata": {},
   "outputs": [
    {
     "data": {
      "text/plain": [
       "[array([0.        , 0.90465068, 0.09534932]),\n",
       " array([0.00000004, 0.9999966 , 0.00000335]),\n",
       " array([0.        , 0.00000113, 0.99999887]),\n",
       " array([0.00037445, 0.99962553, 0.00000002]),\n",
       " array([0.        , 0.00010416, 0.99989584]),\n",
       " array([0.        , 0.07866294, 0.92133706]),\n",
       " array([0.9838622, 0.0161378, 0.       ]),\n",
       " array([0.        , 0.97291818, 0.02708182]),\n",
       " array([0.00000001, 0.99997427, 0.00002572]),\n",
       " array([1., 0., 0.])]"
      ]
     },
     "execution_count": 251,
     "metadata": {},
     "output_type": "execute_result"
    }
   ],
   "source": [
    "probablity"
   ]
  },
  {
   "cell_type": "code",
   "execution_count": null,
   "metadata": {},
   "outputs": [],
   "source": []
  }
 ],
 "metadata": {
  "interpreter": {
   "hash": "6c15b6fbfedcdf0784f9088ccebaf160a9e33f62bfcab5d0151de8aafe12dd7b"
  },
  "kernelspec": {
   "display_name": "Python 3 (ipykernel)",
   "language": "python",
   "name": "python3"
  },
  "language_info": {
   "codemirror_mode": {
    "name": "ipython",
    "version": 3
   },
   "file_extension": ".py",
   "mimetype": "text/x-python",
   "name": "python",
   "nbconvert_exporter": "python",
   "pygments_lexer": "ipython3",
   "version": "3.9.6"
  }
 },
 "nbformat": 4,
 "nbformat_minor": 2
}
