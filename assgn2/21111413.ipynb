{
 "cells": [
  {
   "cell_type": "code",
   "execution_count": 42,
   "id": "b06f987f",
   "metadata": {},
   "outputs": [],
   "source": [
    "#Importing useful packages\n",
    "import numpy as np\n",
    "import matplotlib.pyplot as plt\n",
    "from scipy import ndimage as ndi\n",
    "from skimage.draw import polygon\n",
    "from skimage import color\n",
    "from copy import deepcopy\n",
    "import time"
   ]
  },
  {
   "cell_type": "code",
   "execution_count": 5,
   "id": "6837c325",
   "metadata": {},
   "outputs": [
    {
     "name": "stdout",
     "output_type": "stream",
     "text": [
      "Requirement already satisfied: scikit-image in c:\\users\\jijo98\\appdata\\local\\programs\\python\\python39\\lib\\site-packages (0.19.1)\n",
      "Requirement already satisfied: PyWavelets>=1.1.1 in c:\\users\\jijo98\\appdata\\local\\programs\\python\\python39\\lib\\site-packages (from scikit-image) (1.2.0)\n",
      "Requirement already satisfied: networkx>=2.2 in c:\\users\\jijo98\\appdata\\local\\programs\\python\\python39\\lib\\site-packages (from scikit-image) (2.6.3)\n",
      "Requirement already satisfied: numpy>=1.17.0 in c:\\users\\jijo98\\appdata\\local\\programs\\python\\python39\\lib\\site-packages (from scikit-image) (1.21.2)\n",
      "Requirement already satisfied: scipy>=1.4.1 in c:\\users\\jijo98\\appdata\\local\\programs\\python\\python39\\lib\\site-packages (from scikit-image) (1.7.1)\n",
      "Requirement already satisfied: tifffile>=2019.7.26 in c:\\users\\jijo98\\appdata\\local\\programs\\python\\python39\\lib\\site-packages (from scikit-image) (2021.11.2)\n",
      "Requirement already satisfied: imageio>=2.4.1 in c:\\users\\jijo98\\appdata\\local\\programs\\python\\python39\\lib\\site-packages (from scikit-image) (2.14.0)\n",
      "Requirement already satisfied: packaging>=20.0 in c:\\users\\jijo98\\appdata\\local\\programs\\python\\python39\\lib\\site-packages (from scikit-image) (21.0)\n",
      "Requirement already satisfied: pillow!=7.1.0,!=7.1.1,!=8.3.0,>=6.1.0 in c:\\users\\jijo98\\appdata\\local\\programs\\python\\python39\\lib\\site-packages (from scikit-image) (9.0.0)\n",
      "Requirement already satisfied: pyparsing>=2.0.2 in c:\\users\\jijo98\\appdata\\local\\programs\\python\\python39\\lib\\site-packages (from packaging>=20.0->scikit-image) (2.4.7)\n"
     ]
    }
   ],
   "source": [
    "!pip install scikit-image"
   ]
  },
  {
   "cell_type": "markdown",
   "id": "8ccfe856",
   "metadata": {},
   "source": [
    "## Gabor Filters as atoms of a Complex Cell\n",
    "\n",
    "**Gabor Filters**:- Gabor Filters are a special type of filter which find a great deal of resemblance with Human Visual Cortex, more the reason we're trying to reproduce it in a Cog sc. class :). These filters possess localization properties, and allow a certain range of frequency to pass through while restricting others. Or, we're looking forward to passing features at a particular orientation.\n",
    "\n",
    "We'll be using Gabor filter with only a real component for our purpose, the expression is given by:-\n",
    "\n",
    "$$ g(x,y; \\lambda, \\theta, \\phi, \\sigma, \\gamma) = \\exp(- \\frac{x^{'2} + \\gamma^2 y^{'2}}{2\\sigma^2}) cos(2\\pi\\frac{x'}{\\lambda}+\\phi) $$\n",
    "\n",
    "Where:-\n",
    "\n",
    "$ x'  = x\\:cos \\theta + y\\:sin \\theta $\n",
    "\n",
    "$ y'  = -x\\:sin \\theta + y\\:cos \\theta $\n",
    "\n",
    "$ \\lambda $ = Wavelength of the sinusoidal component \n",
    "\n",
    "$ \\theta $ = The angle of the normal to parallel stripes of gabor function \n",
    "\n",
    "$ \\phi $ = The phase offset of sin function \n",
    "\n",
    "$ \\sigma $ = The std dev of gaussian \n",
    "\n",
    "$ \\gamma $ = Spatial aspect ratio specifying ellipticity of Gaussian  \n",
    "\n",
    "\n",
    "For our application of reproducing the mechanism of Human Visual Cortex for identifying squares and triangles, we'll be tuning above hyperparameters to check which suits best for identifying both the figures."
   ]
  },
  {
   "cell_type": "code",
   "execution_count": 3,
   "id": "1ca0a70e",
   "metadata": {},
   "outputs": [],
   "source": [
    "class filters:\n",
    "    '''Essentially a module dedicated to square gabor filters'''\n",
    "    \n",
    "    def __init__(self, theta, sigma=2, Lambda=4, phi=0, gamma=2):\n",
    "        self.sigma=sigma\n",
    "        self.theta=theta\n",
    "        self.Lambda=Lambda\n",
    "        self.phi=phi\n",
    "        self.gamma=gamma\n",
    "        \n",
    "    '''Source:-https://en.wikipedia.org/wiki/Gabor_filter'''\n",
    "\n",
    "    #Utility function to implement gabor filter\n",
    "    def gabor(self,ksize):\n",
    "        \"\"\"Gabor feature extraction.\"\"\"\n",
    "        sigma_x = self.sigma\n",
    "\n",
    "        sigma_y=self.sigma\n",
    "\n",
    "        # Bounding box\n",
    "        xmax=ksize/2\n",
    "        ymax=ksize/2\n",
    "        \n",
    "        xmin = -xmax\n",
    "        ymin = -ymax\n",
    "       \n",
    "        (x,y)=np.meshgrid(np.arange(xmin, xmax ),np.arange(ymin, ymax ))\n",
    "        \n",
    "        # Rotation\n",
    "        y_theta = x * np.cos(self.theta) + y * np.sin(self.theta)\n",
    "        x_theta = -x * np.sin(self.theta) + y * np.cos(self.theta)\n",
    "\n",
    "        gb = np.exp(-.5 * (x_theta ** 2 / sigma_x ** 2 + ((y_theta ** 2 + self.gamma**2) / sigma_y ** 2))) * np.cos((2 * np.pi / self.Lambda * x_theta + self.phi))\n",
    "        return gb\n",
    "    \n"
   ]
  },
  {
   "cell_type": "code",
   "execution_count": 4,
   "id": "c2ac4d82",
   "metadata": {},
   "outputs": [
    {
     "data": {
      "image/png": "[encoded data removed]",
      "text/plain": [
       "<Figure size 432x288 with 1 Axes>"
      ]
     },
     "metadata": {
      "needs_background": "light"
     },
     "output_type": "display_data"
    }
   ],
   "source": [
    "'''Visualising 5*5 gabor filter'''\n",
    "\n",
    "fp=filters(theta=np.pi/2) #Note:-Angles are expressed in radians\n",
    "plt.imshow(fp.gabor(5), origin='lower')\n",
    "plt.show()"
   ]
  },
  {
   "cell_type": "markdown",
   "id": "da9e2622",
   "metadata": {},
   "source": [
    "The above image demonstrates a gabor filter with theta=90 degrees, or it's vertical as expected, and will allow vertical lines to pass through while restricting others."
   ]
  },
  {
   "cell_type": "code",
   "execution_count": 5,
   "id": "06badf69",
   "metadata": {},
   "outputs": [],
   "source": [
    "def triangle(x0,y0):\n",
    "    '''Takes in the centre coordinate of an equilateral triangle and returns coordinates of all the 3 vertices'''\n",
    "    \n",
    "    d=20 #Distance of the centre from all the 3 vertices\n",
    "    angle=np.pi/6\n",
    "    rr,cc=[y0-d*np.sin(angle),y0-d*np.sin(angle),y0+d],[x0-d*np.cos(angle),x0+d*np.cos(angle),x0]\n",
    "   \n",
    "    \n",
    "    return rr,cc\n",
    "\n",
    "def squares(x0,y0):\n",
    "    \n",
    "    '''Takes in the centre coordinate of a square and returns coordinates of all 4 vertices of a square'''\n",
    "    \n",
    "    d=20\n",
    "    angle=np.pi/4\n",
    "    rr,cc=[y0-d*np.sin(angle),y0-d*np.sin(angle),y0+d*np.sin(angle), y0+d*np.sin(angle)],[x0-d*np.cos(angle),x0+d*np.cos(angle),x0+d*np.cos(angle),x0-d*np.cos(angle)]\n",
    "   \n",
    "    return rr,cc\n",
    "\n",
    "\n",
    "    \n",
    "    \n",
    "    "
   ]
  },
  {
   "cell_type": "code",
   "execution_count": 6,
   "id": "5583c0d5",
   "metadata": {},
   "outputs": [
    {
     "data": {
      "image/png": "[encoded data removed]",
      "text/plain": [
       "<Figure size 1152x360 with 4 Axes>"
      ]
     },
     "metadata": {
      "needs_background": "light"
     },
     "output_type": "display_data"
    }
   ],
   "source": [
    "'''Using our utility functions to draw triangles and squares of 2 different colors namely red, blue'''\n",
    "\n",
    "triangle_space=np.ones((60,60,3))\n",
    "\n",
    "rr1,cc1=triangle(30,30)\n",
    "\n",
    "rr1,cc1=polygon(rr1,cc1, triangle_space.shape)\n",
    "\n",
    "square_space=np.ones((60,60,3))\n",
    "rr2,cc2=squares(30,30)\n",
    "rr2,cc2=polygon(rr2,cc2,square_space.shape)\n",
    "square_space[rr2,cc2,:]=(0,0,1)\n",
    "\n",
    "fig,ax=plt.subplots(2,2,figsize=[16,5])\n",
    "\n",
    "triangle_space[rr1,cc1,:]=(0,0,1)\n",
    "tri_blue=triangle_space\n",
    "\n",
    "ax[0,0].imshow(tri_blue,origin='lower')\n",
    "ax[0,0].set_title('Blue Triangle')\n",
    "\n",
    "triangle_space[rr1,cc1,:]=(1,0,0)\n",
    "tri_red=triangle_space\n",
    "\n",
    "ax[0,1].imshow(tri_red,origin='lower')\n",
    "ax[0,1].set_title('Red Triangle')\n",
    "square_space[rr2,cc2,:]=(1,0,0)\n",
    "sq_red=square_space\n",
    "\n",
    "ax[1,0].imshow(sq_red,origin='lower')\n",
    "ax[1,0].set_title('Red Square')\n",
    "\n",
    "square_space[rr2,cc2,:]=(0,0,1)\n",
    "sq_blue=square_space\n",
    "ax[1,1].imshow(sq_blue,origin='lower')\n",
    "ax[1,1].set_title('Blue Square')\n",
    "plt.show()"
   ]
  },
  {
   "cell_type": "code",
   "execution_count": 173,
   "id": "bf4f1ebe",
   "metadata": {},
   "outputs": [
    {
     "data": {
      "text/plain": [
       "(60, 60, 3)"
      ]
     },
     "execution_count": 173,
     "metadata": {},
     "output_type": "execute_result"
    }
   ],
   "source": [
    "triangle_space.shape"
   ]
  },
  {
   "cell_type": "code",
   "execution_count": 7,
   "id": "0d84e3e9",
   "metadata": {},
   "outputs": [],
   "source": [
    "def filter_bank(figure, plot):\n",
    "    \n",
    "    '''Creates an array of filters with 4 diff. orientations and returns the convolved image, which wil help us to figure out \n",
    "    the response that the filter had on convolving with the image at diff. orientations'''\n",
    "    \n",
    "    \n",
    "    #We want filters corresponding to alignment of edges w.r.t x axis\n",
    "    angles=[0,np.pi/3, np.pi/2, 2*np.pi/3]\n",
    "    \n",
    "    #Threshold values are set based on empirical observations \n",
    "   \n",
    "    conv_responses=[]\n",
    "    bank=[filters(theta=0),filters(theta=np.pi/3),filters(theta=np.pi/2), filters(theta=2*np.pi/3)]\n",
    "    bank=[]\n",
    "    for i in range(len(angles)):\n",
    "        \n",
    "        bank.append(filters(theta=angles[i]))\n",
    "    #0, 60, 90, 120 degrees respectively\n",
    "    \n",
    "    if(plot):\n",
    "        fig,ax=plt.subplots(2,2,figsize=[10,5])\n",
    "    figure=color.rgb2gray(figure)\n",
    "    response=np.zeros(4)\n",
    "    conv_images=[]\n",
    "    for i in range(len(bank)):\n",
    "        \n",
    "        kernel=bank[i].gabor(ksize=11)\n",
    "       \n",
    "        convolved_img=ndi.convolve(figure,kernel)\n",
    "        \n",
    "#         convolved_img[convolved_img<0.7]=0\n",
    "        convolved_img[convolved_img<0.85]=0\n",
    "        \n",
    "#         convolved_img[convolved_img>=0.85]=(1,0,0)\n",
    "        conv_images.append(convolved_img)\n",
    "        if(plot==True):\n",
    "            ax[int(i/2),int(i%2)].imshow(convolved_img,origin='lower')\n",
    "            ax[int(i/2),int(i%2)].set_title(\"GaborKernel at \"+str(np.ceil(angles[i]*180/np.pi))+\" degree\")\n",
    "            ax[int(i/2),int(i%2)].axis(\"off\")\n",
    "           \n",
    "        \n",
    "        conv_responses.append(convolved_img.mean())\n",
    "       \n",
    "    \n",
    "    tri_check=conv_responses[0]+conv_responses[1]+conv_responses[3]\n",
    "    sq_check=conv_responses[0]+ conv_responses[2]\n",
    "    \n",
    "    if(tri_check> sq_check):\n",
    "        \n",
    "        or_2=np.logical_or(conv_images[0],conv_images[1])\n",
    "        return (np.logical_or(or_2,conv_images[3]),\"Triangle\")\n",
    "    \n",
    "    elif(sq_check>tri_check):\n",
    "        \n",
    "        return (np.logical_or(conv_images[0],conv_images[2]),\"Square\")\n",
    "    \n",
    "    else:\n",
    "        return (0,\"Empty\")\n",
    "        \n",
    "   \n"
   ]
  },
  {
   "cell_type": "code",
   "execution_count": 8,
   "id": "1410e816",
   "metadata": {},
   "outputs": [
    {
     "data": {
      "image/png": "[encoded data removed]",
      "text/plain": [
       "<Figure size 720x360 with 4 Axes>"
      ]
     },
     "metadata": {
      "needs_background": "light"
     },
     "output_type": "display_data"
    }
   ],
   "source": [
    "tri,_=filter_bank(deepcopy(triangle_space),plot=True)    \n"
   ]
  },
  {
   "cell_type": "markdown",
   "id": "9a2e799d",
   "metadata": {},
   "source": [
    "From the above plots, we can claim that our filters are doing a great job in passing those edges of the triangle which have the same orientation as the filter and filtering away the rest. Combining 3 detected edges, we can resconstruct the original triangle as shown in the following section:"
   ]
  },
  {
   "cell_type": "code",
   "execution_count": 9,
   "id": "4b05bdbb",
   "metadata": {},
   "outputs": [
    {
     "data": {
      "image/png": "[encoded data removed]",
      "text/plain": [
       "<Figure size 432x288 with 1 Axes>"
      ]
     },
     "metadata": {
      "needs_background": "light"
     },
     "output_type": "display_data"
    }
   ],
   "source": [
    "plt.imshow(tri, origin='lower')\n",
    "plt.title('Convolved Triangle')\n",
    "plt.show()"
   ]
  },
  {
   "cell_type": "code",
   "execution_count": 10,
   "id": "a5e1a628",
   "metadata": {},
   "outputs": [
    {
     "data": {
      "image/png": "[encoded data removed]",
      "text/plain": [
       "<Figure size 720x360 with 4 Axes>"
      ]
     },
     "metadata": {
      "needs_background": "light"
     },
     "output_type": "display_data"
    }
   ],
   "source": [
    "sq,_=filter_bank(deepcopy(square_space),plot=True)\n"
   ]
  },
  {
   "cell_type": "markdown",
   "id": "661c49b7",
   "metadata": {},
   "source": [
    "For identifying a square, only 2 types of orientations are required to recognize a square, and combining those we have our outline of the square plotted below:"
   ]
  },
  {
   "cell_type": "code",
   "execution_count": 11,
   "id": "a435e4b8",
   "metadata": {},
   "outputs": [
    {
     "data": {
      "image/png": "[encoded data removed]",
      "text/plain": [
       "<Figure size 432x288 with 1 Axes>"
      ]
     },
     "metadata": {
      "needs_background": "light"
     },
     "output_type": "display_data"
    }
   ],
   "source": [
    "plt.imshow(sq,origin='lower')\n",
    "plt.title('Convolved Square')\n",
    "plt.show()"
   ]
  },
  {
   "cell_type": "markdown",
   "id": "ab32ab44",
   "metadata": {},
   "source": [
    "## Simulating Triesmann Experiment\n",
    "\n",
    "**Triesmann experiment of Visual Search** :-  In the following section we'll be trying to simulate Triesmann's experiment on visual search, and to perform a visual search, we'll be using our bank of filters or complex cell of Visual Cortex we've developed in the prior section. The experiment primarily focuses on 2 types of search paradgims viz. Feature and Conjunction search, we'll be discussing more on those paradigms as we move forward."
   ]
  },
  {
   "cell_type": "code",
   "execution_count": 12,
   "id": "389696cd",
   "metadata": {},
   "outputs": [],
   "source": [
    "def draw(window, shape, color, pos):\n",
    "    \n",
    "    '''A module dedicated to create figures based on the input features like shape or color'''\n",
    "    \n",
    "    if(shape==0):\n",
    "        rr,cc=triangle(pos[0],pos[1])\n",
    "        \n",
    "    else:\n",
    "        rr,cc=squares(pos[0],pos[1])\n",
    "        \n",
    "    if(color==0):\n",
    "        col=(1,0,0)\n",
    "        \n",
    "    else:\n",
    "        col=(0,0,1)\n",
    "        \n",
    "    \n",
    "    rr,cc=polygon(rr,cc,window.shape)\n",
    "    window[rr,cc,:]=col\n",
    "    \n",
    "    return window\n",
    "            "
   ]
  },
  {
   "cell_type": "code",
   "execution_count": 13,
   "id": "d18ec829",
   "metadata": {},
   "outputs": [
    {
     "data": {
      "text/plain": [
       "[[30, 30],\n",
       " (30, 90),\n",
       " (30, 150),\n",
       " (30, 210),\n",
       " (30, 270),\n",
       " (90, 30),\n",
       " (90, 90),\n",
       " (90, 150),\n",
       " (90, 210),\n",
       " (90, 270),\n",
       " (150, 30),\n",
       " (150, 90),\n",
       " (150, 150),\n",
       " (150, 210),\n",
       " (150, 270),\n",
       " (210, 30),\n",
       " (210, 90),\n",
       " (210, 150),\n",
       " (210, 210),\n",
       " (210, 270),\n",
       " (270, 30),\n",
       " (270, 90),\n",
       " (270, 150),\n",
       " (270, 210),\n",
       " (270, 270)]"
      ]
     },
     "execution_count": 13,
     "metadata": {},
     "output_type": "execute_result"
    }
   ],
   "source": [
    "#Max number of objects =25\n",
    "window=np.ones((300,300,3))\n",
    "\n",
    "centre_pos=[]\n",
    "r0,c0=30,30\n",
    "pos0=[r0,c0]\n",
    "for i in range(1,26):\n",
    "    centre_pos.append(pos0)\n",
    "    c0=np.mod(c0+60,300)\n",
    "    if(i%5==0):\n",
    "        r0+=60\n",
    "    pos0=(r0,c0)\n",
    "\n",
    "centre_pos"
   ]
  },
  {
   "cell_type": "code",
   "execution_count": 14,
   "id": "37426d09",
   "metadata": {},
   "outputs": [],
   "source": [
    "idx=np.random.choice(25, size=4, replace=False)\n",
    "centre_pos=np.array(centre_pos)\n"
   ]
  },
  {
   "cell_type": "code",
   "execution_count": 15,
   "id": "3e3259b2",
   "metadata": {},
   "outputs": [
    {
     "data": {
      "text/plain": [
       "array([[150, 270],\n",
       "       [210, 210],\n",
       "       [270, 210],\n",
       "       [210,  30]])"
      ]
     },
     "execution_count": 15,
     "metadata": {},
     "output_type": "execute_result"
    }
   ],
   "source": [
    "filter_cent=centre_pos[idx,:]\n",
    "filter_cent"
   ]
  },
  {
   "cell_type": "code",
   "execution_count": 16,
   "id": "a7103bc3",
   "metadata": {},
   "outputs": [
    {
     "data": {
      "image/png": "[encoded data removed]",
      "text/plain": [
       "<Figure size 432x288 with 1 Axes>"
      ]
     },
     "metadata": {
      "needs_background": "light"
     },
     "output_type": "display_data"
    }
   ],
   "source": [
    "# sq=filter_cent[3]\n",
    "for i in range(len(filter_cent)-1):\n",
    "    rr,cc=triangle(filter_cent[i][0],filter_cent[i][1])\n",
    "\n",
    "    rr,cc=polygon(rr,cc, window.shape)\n",
    "\n",
    "    window[rr,cc,:]=(0,0,1)\n",
    "\n",
    "\n",
    "rr,cc=squares(filter_cent[i+1][0],filter_cent[i+1][1])\n",
    "rr,cc=polygon(rr,cc,window.shape)\n",
    "window[rr,cc,:]=(1,0,0)\n",
    " \n",
    "fig,ax=plt.subplots()\n",
    "\n",
    "x_ticks=range(0,300,60)\n",
    "y_ticks=range(0,300,60)\n",
    "ax.set_xticks(x_ticks)\n",
    "ax.set_yticks(y_ticks)\n",
    "ax.imshow(window,origin='lower')\n",
    "plt.show()"
   ]
  },
  {
   "cell_type": "code",
   "execution_count": 17,
   "id": "1804df03",
   "metadata": {},
   "outputs": [
    {
     "data": {
      "image/png": "[encoded data removed]",
      "text/plain": [
       "<Figure size 720x360 with 2 Axes>"
      ]
     },
     "metadata": {
      "needs_background": "light"
     },
     "output_type": "display_data"
    }
   ],
   "source": [
    "r0,c0=0,0\n",
    "detect_window=np.ones((300,300))\n",
    "for i in range(25):\n",
    "    r0=int(i*60/300)*60\n",
    "    c0=np.mod(i*60,300)\n",
    "    \n",
    "    detect_window[r0:r0+60, c0:c0+60],_=filter_bank(deepcopy(window[r0:r0+60, c0:c0+60]),plot=False)\n",
    "    \n",
    "   \n",
    "fig,ax=plt.subplots(1,2,figsize=[10,5])\n",
    "\n",
    "x_ticks=range(0,300,60)\n",
    "y_ticks=range(0,300,60)\n",
    "ax[0].set_xticks(x_ticks)\n",
    "ax[0].set_yticks(y_ticks)\n",
    "ax[0].imshow(detect_window,origin='lower')\n",
    "ax[1].set_xticks(x_ticks)\n",
    "ax[1].set_yticks(y_ticks)\n",
    "ax[1].imshow(window,origin='lower')\n",
    "plt.show()"
   ]
  },
  {
   "cell_type": "code",
   "execution_count": 99,
   "id": "9c45fde6",
   "metadata": {},
   "outputs": [],
   "source": [
    "def pre_attention(window):\n",
    "    \n",
    "    #color : 0=Red, 1=Blue, 2=White/Empty\n",
    "    store=[]\n",
    "    feature=[]\n",
    "    flag=0\n",
    "    \n",
    "    for i in range(25):\n",
    "        r0=int(i*60/300)*60\n",
    "        c0=np.mod(i*60,300)\n",
    "\n",
    "        if (window[r0:r0+60, c0:c0+60,0].all()==1 and window[r0:r0+60, c0:c0+60,2].all()==0):\n",
    "            \n",
    "            color=0\n",
    "            \n",
    "        elif (window[r0:r0+60, c0:c0+60,2].all()==1 and window[r0:r0+60, c0:c0+60,0].all()==0):\n",
    "            color=1\n",
    "            \n",
    "            \n",
    "        else:\n",
    "            color=2\n",
    "        \n",
    "        if(color!=2):   \n",
    "            store.append([r0,c0])\n",
    "            \n",
    "    \n",
    "    time.sleep(0.001)  #Neural processing delay\n",
    "    for i in range(25):\n",
    "        r0=int(i*60/300)*60\n",
    "        c0=np.mod(i*60,300)\n",
    "        _,detected_fig=filter_bank(deepcopy(window[r0:r0+60, c0:c0+60]),plot=False)\n",
    "        \n",
    "        if(detected_fig==\"Triangle\"):\n",
    "            detected_fig=0\n",
    "            \n",
    "        elif(detected_fig==\"Square\"):\n",
    "            detected_fig=1\n",
    "            \n",
    "        else:\n",
    "            detected_fig=2\n",
    "            \n",
    "        if (window[r0:r0+60, c0:c0+60,0].all()==1 and window[r0:r0+60, c0:c0+60,2].all()==0):\n",
    "            \n",
    "            color=0\n",
    "            \n",
    "        elif (window[r0:r0+60, c0:c0+60,2].all()==1 and window[r0:r0+60, c0:c0+60,0].all()==0):\n",
    "            color=1\n",
    "            \n",
    "            \n",
    "        else:\n",
    "            color=2\n",
    "        \n",
    "        if(color!=2):   \n",
    "            store.append([r0,c0])\n",
    "            \n",
    "        if(color!=2 and [detected_fig,color] not in feature ):\n",
    "            \n",
    "            if(flag==1):\n",
    "                return (r0,c0),store\n",
    "                \n",
    "            flag=1\n",
    "            \n",
    "        feature.append([detected_fig,color])\n",
    "            \n",
    "            \n",
    "     \n",
    "    return (0,0),store\n",
    "        \n",
    "    \n",
    "    \n",
    "def Triesman_simulator(window, expt, features, pre_at, plot=False ):\n",
    "    \n",
    "    '''Simulates Triesman's Feature and Conjunction search paradigm'''\n",
    "   \n",
    "    win2=deepcopy(window)\n",
    "    \n",
    "    if(expt=='Feature Search'):\n",
    "        \n",
    "        '''Pre_attention pops out the object of desire and we need to search no more'''\n",
    "        r0,c0=pre_at\n",
    "        potential_win,detected_fig=filter_bank(deepcopy(window[r0:r0+60, c0:c0+60]),plot=False)\n",
    "        win2[r0:r0+60, c0:c0+60,np.random.randint(3)]=potential_win\n",
    "    \n",
    "    elif(expt=='Conjunction Search'):\n",
    "        \n",
    "        '''Preattention helps in estimating no. of objects and we iterate over all objects serially to find our solution'''\n",
    "        for i in range(len(pre_at)):\n",
    "            time.sleep(0.001)\n",
    "           \n",
    "            r0,c0=pre_at[i][0],pre_at[i][1] \n",
    "            \n",
    "            if(features[0]!=0 and (window[r0:r0+60, c0:c0+60,0].all()==1 and window[r0:r0+60, c0:c0+60,2].all()==0)):\n",
    "       \n",
    "                continue\n",
    "            \n",
    "            elif(features[0]!=1 and (window[r0:r0+60, c0:c0+60,2].all()==1 and window[r0:r0+60, c0:c0+60,0].all()==0)):\n",
    "        \n",
    "                continue\n",
    "        \n",
    "            potential_win,detected_fig=filter_bank(deepcopy(window[r0:r0+60, c0:c0+60]),plot=False)\n",
    "            \n",
    "            if(detected_fig==\"Triangle\"):\n",
    "                detected_fig=0\n",
    "                \n",
    "            elif(detected_fig=='Square'):\n",
    "                detected_fig=1\n",
    "            \n",
    "           \n",
    "            if(detected_fig==features[1]):\n",
    "               \n",
    "                win2[r0:r0+60, c0:c0+60,np.random.randint(3)]=potential_win\n",
    "                \n",
    "                \n",
    "    \n",
    "      \n",
    "    \n",
    "    if(plot==True):\n",
    "        fig,ax=plt.subplots(1,2,figsize=[10,5])\n",
    "    \n",
    "        x_ticks=range(0,300,60)\n",
    "        y_ticks=range(0,300,60)\n",
    "        ax[0].set_xticks(x_ticks)\n",
    "        ax[0].set_yticks(y_ticks)\n",
    "        ax[0].imshow(window,origin='lower')\n",
    "        ax[0].set_title('Original image with Distractors')\n",
    "        ax[1].set_xticks(x_ticks)\n",
    "        ax[1].set_yticks(y_ticks)\n",
    "        ax[1].imshow(win2,origin='lower')\n",
    "        ax[1].set_title('Popped out image')\n",
    "        plt.title(expt)\n",
    "        plt.show()\n",
    "        \n"
   ]
  },
  {
   "cell_type": "code",
   "execution_count": null,
   "id": "1c3224ff",
   "metadata": {},
   "outputs": [],
   "source": [
    "Triesman_simulator(window,expt, features)"
   ]
  },
  {
   "cell_type": "markdown",
   "id": "bd6e6b87",
   "metadata": {},
   "source": [
    "**Feature Search**:- Searching a target which is identifiable by some unqiue feature like color, orientation or size, in a space filled with distractors. There's a \"pop out\" effect experienced by human visual system, on looking at such an apparatus, and it highly depends on the reaction time of the individual.\n",
    "\n",
    "**Conjunction Search**:- Searching for targets which matches either the shape or the color or both in the image. This search paradigm contrasts with the previous search paradigm in the sense that for the previous paradigm both the features as desired by user, should match with the target."
   ]
  },
  {
   "cell_type": "code",
   "execution_count": 104,
   "id": "01e80141",
   "metadata": {},
   "outputs": [
    {
     "name": "stdout",
     "output_type": "stream",
     "text": [
      "Enter Experiment type:Feature Search\n",
      "Enter number of objects with max number of objects<=25:8\n",
      "Press 0: for red, Press 1:for blue:1\n",
      "Press 0:for Triangle, Press 1 for Square:0\n"
     ]
    }
   ],
   "source": [
    "'''Used for taking inputs from user'''\n",
    "\n",
    "expt=input('Enter Experiment type:')\n",
    "obj=int(input('Enter number of objects with max number of objects<=25:'))\n",
    "features=(int(input('Press 0: for red, Press 1:for blue:')), int(input('Press 0:for Triangle, Press 1 for Square:')))\n"
   ]
  },
  {
   "cell_type": "code",
   "execution_count": 49,
   "id": "6013e80a",
   "metadata": {},
   "outputs": [],
   "source": [
    "\n",
    "def generate_paradigm(expt, obj, features, centre_pos, plot=False):\n",
    "    \n",
    "    window=np.ones((300,300,3))\n",
    "    idx=np.random.choice(25, size=obj, replace=False)\n",
    "    centre_pos=np.array(centre_pos)\n",
    "    ftr=[-1,-1]\n",
    "    filter_cent=centre_pos[idx,:]\n",
    "    fixed_feature=np.random.randint(2) #0 indicates color will be fixed, 1 indicates shape will be fixed\n",
    "\n",
    "    bins=[\"00\", \"01\", \"10\", \"11\"] #List of possible color,shape combos\n",
    "        \n",
    "    bins.remove(str(1-features[0])+str(1-features[1]))\n",
    "    bins.remove(str(features[0])+str(features[1]))\n",
    "\n",
    "    for i in range(len(filter_cent)-1):\n",
    "    \n",
    "        if(expt=='Feature Search'):\n",
    "        \n",
    "            ftr[fixed_feature]=features[fixed_feature]\n",
    "            ftr[1-fixed_feature]=1-features[1-fixed_feature]\n",
    "        \n",
    "        else:\n",
    "            \n",
    "            \n",
    "            choice=bins[np.random.randint(2)]\n",
    "        \n",
    "            ftr[0]=int(choice[0])\n",
    "            ftr[1]=int(choice[1])\n",
    "        \n",
    "        \n",
    "    \n",
    "        window=draw(window,ftr[1], ftr[0], (filter_cent[i][0],filter_cent[i][1]))\n",
    "    \n",
    "              \n",
    "    window=draw(window,features[1],features[0],(filter_cent[i+1][0],filter_cent[i+1][1]))\n",
    "    \n",
    "    if(plot==True):\n",
    "        fig,ax=plt.subplots()\n",
    "\n",
    "        x_ticks=range(0,300,60)\n",
    "        y_ticks=range(0,300,60)\n",
    "        ax.set_xticks(x_ticks)\n",
    "        ax.set_yticks(y_ticks)\n",
    "        ax.imshow(window,origin='lower')\n",
    "        plt.show()\n",
    "        \n",
    "    return window\n",
    "        \n"
   ]
  },
  {
   "cell_type": "code",
   "execution_count": 105,
   "id": "3b4b9036",
   "metadata": {},
   "outputs": [
    {
     "data": {
      "image/png": "[encoded data removed]",
      "text/plain": [
       "<Figure size 432x288 with 1 Axes>"
      ]
     },
     "metadata": {
      "needs_background": "light"
     },
     "output_type": "display_data"
    }
   ],
   "source": [
    "window=generate_paradigm(expt, obj, features, centre_pos, plot=True )"
   ]
  },
  {
   "cell_type": "code",
   "execution_count": 106,
   "id": "a96ca3e2",
   "metadata": {},
   "outputs": [
    {
     "data": {
      "image/png": "[encoded data removed]",
      "text/plain": [
       "<Figure size 720x360 with 2 Axes>"
      ]
     },
     "metadata": {
      "needs_background": "light"
     },
     "output_type": "display_data"
    }
   ],
   "source": [
    "#For Feature Search\n",
    "pre_at,_=pre_attention(window)\n",
    "\n",
    "Triesman_simulator(window, expt, features, pre_at, plot=True)"
   ]
  },
  {
   "cell_type": "markdown",
   "id": "5240eb88",
   "metadata": {},
   "source": [
    "The above plot demonstrates how Feature search is able to locate our desired object among all the distractors."
   ]
  },
  {
   "cell_type": "code",
   "execution_count": 93,
   "id": "32188fc2",
   "metadata": {},
   "outputs": [
    {
     "data": {
      "image/png": "[encoded data removed]",
      "text/plain": [
       "<Figure size 720x360 with 2 Axes>"
      ]
     },
     "metadata": {
      "needs_background": "light"
     },
     "output_type": "display_data"
    }
   ],
   "source": [
    "#For Conjunction Search\n",
    "_, pre_at=pre_attention(window)\n",
    "\n",
    "Triesman_simulator(window, expt, features, pre_at, plot=True)"
   ]
  },
  {
   "cell_type": "markdown",
   "id": "9848c93b",
   "metadata": {},
   "source": [
    "The above plot demonstrates how Conjunction search is able to locate our desired object among all the distractors."
   ]
  },
  {
   "cell_type": "markdown",
   "id": "17e6da49",
   "metadata": {},
   "source": [
    "## Feature Integration Theory\n",
    "\n",
    "In the following section we'll be using the functions defined above to find out time taken for Feature Integration in 2 types of experiment, namely, Feature Search and Conjunction Search. We'll be observing how the response time behaves on increasing number of distractors in the image."
   ]
  },
  {
   "cell_type": "code",
   "execution_count": 100,
   "id": "f963cba0",
   "metadata": {},
   "outputs": [],
   "source": [
    "'''We'll assume our desired feature is blue square or [1,1] for our experiments below '''\n",
    "\n",
    "#Feature Search\n",
    "responsetimefeature=[]\n",
    "expt=\"Feature Search\"\n",
    "\n",
    "for obj in range(2,24):\n",
    "    \n",
    "    window=generate_paradigm(expt, obj, [1,1], centre_pos )\n",
    "    pre_at,_=pre_attention(window)\n",
    "    \n",
    "    t=time.time()#start of response time#\n",
    "    Triesman_simulator(window, expt, [1,1], pre_at)\n",
    "    responsetimefeature.append(time.time()-t)\n",
    "\n",
    "    \n",
    "#Conjuction Search#\n",
    "responsetimeconjuction=[]\n",
    "expt=\"Conjunction Search\"\n",
    "for obj in range(2,24):\n",
    "    \n",
    "    window=generate_paradigm(expt, obj, [1,1], centre_pos )\n",
    "    _, pre_at=pre_attention(window)\n",
    "    \n",
    "    t=time.time()#start of response time#\n",
    "    Triesman_simulator(window, expt, [1,1], pre_at)\n",
    "    responsetimeconjuction.append(time.time()-t)\n",
    "    \n"
   ]
  },
  {
   "cell_type": "code",
   "execution_count": 103,
   "id": "aed94518",
   "metadata": {},
   "outputs": [
    {
     "data": {
      "image/png": "[encoded data removed]",
      "text/plain": [
       "<Figure size 720x432 with 1 Axes>"
      ]
     },
     "metadata": {
      "needs_background": "light"
     },
     "output_type": "display_data"
    }
   ],
   "source": [
    "plt.figure(figsize=(10,6))\n",
    "responsetimes=np.array(responsetimefeature)\n",
    "responsetimes2=np.array(responsetimeconjuction)\n",
    "plt.plot([i for i in range(2,24)],responsetimes)\n",
    "plt.plot([i for i in range(2,24)],responsetimes2)\n",
    "plt.legend([\"feature\",\"conjuction\"],loc=2)\n",
    "plt.xlabel(\"No of Distractors\")\n",
    "plt.ylabel(\"Response time\")\n",
    "plt.title(\"Response time vs Distractors\")\n",
    "plt.savefig('ResponseGraph.png', bbox_inches='tight')\n",
    "plt.show()"
   ]
  },
  {
   "cell_type": "markdown",
   "id": "b64bed08",
   "metadata": {},
   "source": [
    "**Inference from the above graph**:- We can an uptrend of response time as no. of distractors also increase, this happens as in Conjunction search, a serial search is performed acroos all the objects and by combining features we're able to find the object we desire. In Feature Search, however, the Response Time generally remains constant, as the \"pop-out\" effect takes place and the search happens even without any conscious attention( in the preattention stage)."
   ]
  },
  {
   "cell_type": "markdown",
   "id": "9a67833c",
   "metadata": {},
   "source": [
    "## References\n",
    "\n",
    "1. https://en.wikipedia.org/wiki/Visual_search\n",
    "2. https://www.youtube.com/watch?v=3QFaTrS4Xnw\n",
    "3. https://en.wikipedia.org/wiki/Gabor_filter"
   ]
  },
  {
   "cell_type": "markdown",
   "id": "9353b221",
   "metadata": {},
   "source": [
    "## Acknowledgements\n",
    "\n",
    "I am really thankful to my friends Manjyot and Sharanya for being wonderful partners in discussion and brainstorming"
   ]
  },
  {
   "cell_type": "code",
   "execution_count": null,
   "id": "5a8e146b",
   "metadata": {},
   "outputs": [],
   "source": []
  }
 ],
 "metadata": {
  "kernelspec": {
   "display_name": "Python 3 (ipykernel)",
   "language": "python",
   "name": "python3"
  },
  "language_info": {
   "codemirror_mode": {
    "name": "ipython",
    "version": 3
   },
   "file_extension": ".py",
   "mimetype": "text/x-python",
   "name": "python",
   "nbconvert_exporter": "python",
   "pygments_lexer": "ipython3",
   "version": "3.9.6"
  }
 },
 "nbformat": 4,
 "nbformat_minor": 5
}
